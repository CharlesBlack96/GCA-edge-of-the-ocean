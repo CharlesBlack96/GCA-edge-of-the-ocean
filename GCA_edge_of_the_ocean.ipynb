{
  "nbformat": 4,
  "nbformat_minor": 0,
  "metadata": {
    "colab": {
      "provenance": [],
      "authorship_tag": "ABX9TyOplMpbMY+69DmVZ+XQbpmY",
      "include_colab_link": true
    },
    "kernelspec": {
      "name": "python3",
      "display_name": "Python 3"
    },
    "language_info": {
      "name": "python"
    }
  },
  "cells": [
    {
      "cell_type": "markdown",
      "metadata": {
        "id": "view-in-github",
        "colab_type": "text"
      },
      "source": [
        "<a href=\"https://colab.research.google.com/github/CharlesBlack96/GCA-edge-of-the-ocean/blob/main/GCA_edge_of_the_ocean.ipynb\" target=\"_parent\"><img src=\"https://colab.research.google.com/assets/colab-badge.svg\" alt=\"Open In Colab\"/></a>"
      ]
    },
    {
      "cell_type": "markdown",
      "source": [
        "Given an array of integers, find the pair of adjacent elements that has the largest product and return that product.\n",
        "\n",
        "Example\n",
        "\n",
        "For inputArray = [3, 6, -2, -5, 7, 3], the output should be\n",
        "solution(inputArray) = 21.\n",
        "\n",
        "7 and 3 produce the largest product.\n",
        "\n",
        "Input/Output\n",
        "\n",
        "[execution time limit] 4 seconds (py3)\n",
        "\n",
        "[input] array.integer inputArray\n",
        "\n",
        "An array of integers containing at least two elements.\n",
        "\n",
        "Guaranteed constraints:\n",
        "2 ≤ inputArray.length ≤ 10,\n",
        "-1000 ≤ inputArray[i] ≤ 1000.\n",
        "\n",
        "[output] integer\n",
        "\n",
        "The largest product of adjacent elements."
      ],
      "metadata": {
        "id": "MwhZL8oq-sid"
      }
    },
    {
      "cell_type": "code",
      "source": [
        "#create a function\n",
        "\n",
        "#function will check each index and the one to the right of it until the second to last index\n",
        "\n",
        "#it will multiply each pair together and place each product in a list of products\n",
        "\n",
        "#it will then return the max value of the product.\n",
        "\n",
        "#i want to avoid using for loops but instead list comprehension or array computations?\n",
        "#the best practice for this is to use an array computation\n",
        "\n",
        "def solution1(inputArray):\n",
        "  return max([inputArray[i] * inputArray[i+1] for i in range(len(inputArray)-1)])"
      ],
      "metadata": {
        "id": "zdHWa24w-wEd"
      },
      "execution_count": 18,
      "outputs": []
    },
    {
      "cell_type": "code",
      "source": [
        "solution1([3, 6, -2, -5, 7, 3])"
      ],
      "metadata": {
        "colab": {
          "base_uri": "https://localhost:8080/"
        },
        "id": "5_FRTgZ_Me2H",
        "outputId": "6a8df908-dc57-4bf4-fda4-7bf30b25ca24"
      },
      "execution_count": 19,
      "outputs": [
        {
          "output_type": "execute_result",
          "data": {
            "text/plain": [
              "21"
            ]
          },
          "metadata": {},
          "execution_count": 19
        }
      ]
    },
    {
      "cell_type": "code",
      "source": [
        "solution1([3, 6, -2, -5, 7, 45])"
      ],
      "metadata": {
        "colab": {
          "base_uri": "https://localhost:8080/"
        },
        "id": "SEm3jBnVMpGM",
        "outputId": "a3f27257-b521-4a76-ffb3-53314d7cbf57"
      },
      "execution_count": 20,
      "outputs": [
        {
          "output_type": "execute_result",
          "data": {
            "text/plain": [
              "315"
            ]
          },
          "metadata": {},
          "execution_count": 20
        }
      ]
    },
    {
      "cell_type": "code",
      "source": [
        "# PASSES TESTS BUT IS IT THE BEST"
      ],
      "metadata": {
        "id": "ueVBHNf_MvPC"
      },
      "execution_count": 10,
      "outputs": []
    },
    {
      "cell_type": "code",
      "source": [
        "#FOR LOOPS VS LIST COMPREHENSIONS VS ARRAY COMPUTATIONS\n",
        "\n",
        "#FOR LOOP\n",
        "start = time.time()\n",
        "for i in range(iterations):\n",
        "    i+1\n",
        "end = time.time()\n",
        "print(end - start)\n",
        ">> 6.16 seconds\n",
        "\n",
        "#LIST COMPREHENSION\n",
        "start = time.time()\n",
        "[i+1 for i in range(iterations)]\n",
        "end = time.time()\n",
        "print(end - start)\n",
        ">> 7.80 seconds\n",
        "\n",
        "#ARRAY COMPUTATION\n",
        "start = time.time()\n",
        "mylist = list(range(iterations))\n",
        "end = time.time()\n",
        "print(end - start)\n",
        ">> 4.84 seconds"
      ],
      "metadata": {
        "colab": {
          "base_uri": "https://localhost:8080/",
          "height": 133
        },
        "id": "1lkiPtcAJTz8",
        "outputId": "f897c363-ac57-480d-e997-ff0e64d6af9d"
      },
      "execution_count": 12,
      "outputs": [
        {
          "output_type": "error",
          "ename": "SyntaxError",
          "evalue": "ignored",
          "traceback": [
            "\u001b[0;36m  File \u001b[0;32m\"<ipython-input-12-4271e1299699>\"\u001b[0;36m, line \u001b[0;32m9\u001b[0m\n\u001b[0;31m    >> 6.16 seconds\u001b[0m\n\u001b[0m    ^\u001b[0m\n\u001b[0;31mSyntaxError\u001b[0m\u001b[0;31m:\u001b[0m invalid syntax\n"
          ]
        }
      ]
    },
    {
      "cell_type": "code",
      "source": [
        "inputarray = [3, 6, -2, -5, 7, 3]"
      ],
      "metadata": {
        "id": "benD38alMzqw"
      },
      "execution_count": 13,
      "outputs": []
    },
    {
      "cell_type": "code",
      "source": [
        "inputarray"
      ],
      "metadata": {
        "colab": {
          "base_uri": "https://localhost:8080/"
        },
        "id": "_RHg0fvQPYRY",
        "outputId": "268eea02-0600-418e-8466-abcffb9dded4"
      },
      "execution_count": 14,
      "outputs": [
        {
          "output_type": "execute_result",
          "data": {
            "text/plain": [
              "[3, 6, -2, -5, 7, 3]"
            ]
          },
          "metadata": {},
          "execution_count": 14
        }
      ]
    },
    {
      "cell_type": "code",
      "source": [
        "inputarray[1:]"
      ],
      "metadata": {
        "colab": {
          "base_uri": "https://localhost:8080/"
        },
        "id": "NsjbYOFePZui",
        "outputId": "6c7be290-1837-4798-b4c6-17a9ac3e028d"
      },
      "execution_count": 15,
      "outputs": [
        {
          "output_type": "execute_result",
          "data": {
            "text/plain": [
              "[6, -2, -5, 7, 3]"
            ]
          },
          "metadata": {},
          "execution_count": 15
        }
      ]
    },
    {
      "cell_type": "code",
      "source": [
        "def solution2(inputArray):\n",
        "  products = [a*b for a,b in zip(inputArray, inputArray[:1])]\n",
        "  return max(products)"
      ],
      "metadata": {
        "id": "ONQzTZXVQHIR"
      },
      "execution_count": 23,
      "outputs": []
    },
    {
      "cell_type": "code",
      "source": [
        "solution2([3, 6, -2, -5, 7, 3])"
      ],
      "metadata": {
        "colab": {
          "base_uri": "https://localhost:8080/"
        },
        "id": "A7DbX9AaQXQy",
        "outputId": "09368d4d-47e0-4cb7-bcd6-87901b7379b3"
      },
      "execution_count": 25,
      "outputs": [
        {
          "output_type": "execute_result",
          "data": {
            "text/plain": [
              "9"
            ]
          },
          "metadata": {},
          "execution_count": 25
        }
      ]
    },
    {
      "cell_type": "code",
      "source": [
        "def solution3(inputArray):\n",
        "  return max(a*b for a,b in zip(inputArray[:-1], inputArray[1:]))\n"
      ],
      "metadata": {
        "id": "_8zBVm4gR1Dx"
      },
      "execution_count": 29,
      "outputs": []
    },
    {
      "cell_type": "code",
      "source": [
        "solution3([3, 6, -2, -5, 7, 3])"
      ],
      "metadata": {
        "colab": {
          "base_uri": "https://localhost:8080/"
        },
        "id": "nQREEc_5R-Pa",
        "outputId": "06064238-7613-4168-9f94-13d80854baed"
      },
      "execution_count": 30,
      "outputs": [
        {
          "output_type": "execute_result",
          "data": {
            "text/plain": [
              "21"
            ]
          },
          "metadata": {},
          "execution_count": 30
        }
      ]
    },
    {
      "cell_type": "code",
      "source": [
        "solution3([3, 6, 20, 15, 7, 3])"
      ],
      "metadata": {
        "colab": {
          "base_uri": "https://localhost:8080/"
        },
        "id": "rFkrBnR6ToMF",
        "outputId": "432b83d9-5c98-4fb2-c39a-6e475d5b55c1"
      },
      "execution_count": 34,
      "outputs": [
        {
          "output_type": "execute_result",
          "data": {
            "text/plain": [
              "300"
            ]
          },
          "metadata": {},
          "execution_count": 34
        }
      ]
    },
    {
      "cell_type": "code",
      "source": [
        "inputarray = [3, 6, -2, -5, 7, 3]"
      ],
      "metadata": {
        "id": "GGuDOlPDSE0v"
      },
      "execution_count": 32,
      "outputs": []
    },
    {
      "cell_type": "code",
      "source": [
        "print(inputarray[:-1])\n",
        "print(inputarray[1:])\n"
      ],
      "metadata": {
        "colab": {
          "base_uri": "https://localhost:8080/"
        },
        "id": "WdJA_rhLSzAv",
        "outputId": "e774bac3-155e-4397-b88b-455bc03d908a"
      },
      "execution_count": 38,
      "outputs": [
        {
          "output_type": "stream",
          "name": "stdout",
          "text": [
            "[3, 6, -2, -5, 7]\n",
            "[6, -2, -5, 7, 3]\n"
          ]
        }
      ]
    },
    {
      "cell_type": "code",
      "source": [
        "#===============================================================================================================\n",
        "#===============================================================================================================\n",
        "#===============================================================================================================\n",
        "#===============================================================================================================\n",
        "#===============================================================================================================\n",
        "#===============================================================================================================\n",
        "#===============================================================================================================\n",
        "#===============================================================================================================\n",
        "#==============================================================================================================="
      ],
      "metadata": {
        "id": "yS4FryEGUajM"
      },
      "execution_count": 39,
      "outputs": []
    },
    {
      "cell_type": "markdown",
      "source": [
        "Below we will define an n-interesting polygon. Your task is to find the area of a polygon for a given n.\n",
        "\n",
        "A 1-interesting polygon is just a square with a side of length 1. An n-interesting polygon is obtained by taking the n - 1-interesting polygon and appending 1-interesting polygons to its rim, side by side. You can see the 1-, 2-, 3- and 4-interesting polygons in the picture below.\n",
        "\n",
        "\n",
        "\n",
        "Example\n",
        "\n",
        "For n = 2, the output should be\n",
        "solution(n) = 5;\n",
        "For n = 3, the output should be\n",
        "solution(n) = 13."
      ],
      "metadata": {
        "id": "llBCr9H1YtjH"
      }
    },
    {
      "cell_type": "code",
      "source": [
        "#after looking at the oictures and another equation i reverse engineered the problem to see how it was done\n",
        "#it just so happens that \n",
        "#n2 != border\n",
        "#(n-1)2 != inside amount of squares\n",
        "#but n**2 + (n-1)**2 does equal the total number of squares in the whole thing \n",
        "def solution(n):\n",
        "  return n**2 + (n-1)**2"
      ],
      "metadata": {
        "id": "ppEK5ZGGYzfV"
      },
      "execution_count": 40,
      "outputs": []
    },
    {
      "cell_type": "code",
      "source": [],
      "metadata": {
        "id": "_3a0wxPXrKtB"
      },
      "execution_count": null,
      "outputs": []
    }
  ]
}